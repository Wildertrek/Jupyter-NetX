{
 "cells": [
  {
   "cell_type": "markdown",
   "metadata": {},
   "source": [
    "## Creating a graph\n",
    "Create an empty graph with no nodes and no edges."
   ]
  },
  {
   "cell_type": "code",
   "execution_count": 2,
   "metadata": {},
   "outputs": [],
   "source": [
    "import networkx as nx"
   ]
  },
  {
   "cell_type": "code",
   "execution_count": 3,
   "metadata": {},
   "outputs": [],
   "source": [
    "G = nx.Graph()"
   ]
  },
  {
   "cell_type": "markdown",
   "metadata": {},
   "source": [
    "By definition, a [Graph](https://networkx.github.io/documentation/networkx-1.9.1/reference/classes.graph.html#networkx.Graph) is a collection of nodes (vertices) along with identified pairs of nodes (called edges, links, etc). In NetworkX, nodes can be any hashable object e.g. a text string, an image, an XML object, another Graph, a customized node object, etc.\n",
    "\n",
    "(Note: Python’s None object should not be used as a node as it determines whether optional function arguments have been assigned in many functions.)\n",
    "\n",
    "### Base class for undirected graphs.\n",
    "\n",
    "- A Graph stores __nodes__ and __edges__ with optional data, or attributes.\n",
    "\n",
    "- Graphs hold undirected edges. Self loops are allowed but multiple (parallel) edges are not.\n",
    "\n",
    "- Nodes can be arbitrary (hashable) Python objects with optional key/value attributes.\n",
    "\n",
    "- Edges are represented as links between nodes with optional key/value attributes.\n",
    "\n",
    "There are a few other types of graphs and we'll get to those later: \n",
    "\n",
    "- [digraph](https://networkx.github.io/documentation/networkx-1.9.1/reference/classes.digraph.html#networkx.DiGraph)\n",
    "- [multigraph](https://networkx.github.io/documentation/networkx-1.9.1/reference/classes.multigraph.html#networkx.MultiGraph)\n",
    "- [multidigraph](https://networkx.github.io/documentation/networkx-1.9.1/reference/classes.multidigraph.html#networkx.MultiDiGraph)\n",
    "\n",
    "## [Nodes](https://networkx.github.io/documentation/networkx-1.9.1/tutorial/tutorial.html#nodes)\n",
    "\n",
    "The graph G can be grown in several ways. NetworkX includes many graph generator functions and facilities to read and write graphs in many formats. To get started though we’ll look at simple manipulations. You can add one node at a time,\n"
   ]
  },
  {
   "cell_type": "code",
   "execution_count": 4,
   "metadata": {},
   "outputs": [],
   "source": [
    "#add one node\n",
    "G.add_node(1)"
   ]
  },
  {
   "cell_type": "code",
   "execution_count": 5,
   "metadata": {},
   "outputs": [],
   "source": [
    "#add a list of nodes,\n",
    "G.add_nodes_from([2,3])"
   ]
  },
  {
   "cell_type": "markdown",
   "metadata": {},
   "source": [
    "### nbunch\n",
    "or add any nbunch of nodes. An nbunch is any iterable container of nodes that is not itself a node in the graph. (e.g. a list, set, graph, file, etc..)"
   ]
  },
  {
   "cell_type": "code",
   "execution_count": 6,
   "metadata": {},
   "outputs": [],
   "source": [
    "# add a new graph with 10 nodes\n",
    "H = nx.path_graph(10)\n"
   ]
  },
  {
   "cell_type": "code",
   "execution_count": 7,
   "metadata": {},
   "outputs": [],
   "source": [
    "# now add the nodes from H to G\n",
    "G.add_nodes_from(H)"
   ]
  },
  {
   "cell_type": "markdown",
   "metadata": {},
   "source": [
    "Note that G now contains the nodes of H as nodes of G. In contrast, you could use the graph H as a node in G."
   ]
  },
  {
   "cell_type": "code",
   "execution_count": 8,
   "metadata": {},
   "outputs": [],
   "source": [
    "G.add_node(H)"
   ]
  },
  {
   "cell_type": "markdown",
   "metadata": {},
   "source": [
    "The graph G now contains H as a node. This flexibility is very powerful as it allows graphs of graphs, graphs of files, graphs of functions and much more. It is worth thinking about how to structure your application so that the nodes are useful entities. Of course you can always use a unique identifier in G and have a separate dictionary keyed by identifier to the node information if you prefer. (Note: You should not change the node object if the hash depends on its contents.)"
   ]
  },
  {
   "cell_type": "markdown",
   "metadata": {},
   "source": [
    "## [Edges](https://networkx.github.io/documentation/networkx-1.9.1/tutorial/tutorial.html#edges)\n",
    "\n",
    "G can also be grown by adding one edge at a time,"
   ]
  },
  {
   "cell_type": "code",
   "execution_count": 9,
   "metadata": {},
   "outputs": [],
   "source": [
    "G.add_edge(1,2)\n",
    "e=(2,3)\n",
    "G.add_edge(*e) # unpack edge tuple*"
   ]
  },
  {
   "cell_type": "markdown",
   "metadata": {},
   "source": [
    "or by adding a list of edges,\n"
   ]
  },
  {
   "cell_type": "code",
   "execution_count": 10,
   "metadata": {},
   "outputs": [],
   "source": [
    "G.add_edges_from([(1,2),(1,3)])"
   ]
  },
  {
   "cell_type": "markdown",
   "metadata": {},
   "source": [
    "or by adding any ebunch of edges. An ebunch is any iterable container of edge-tuples. An edge-tuple can be a 2-tuple of nodes or a 3-tuple with 2 nodes followed by an edge attribute dictionary, e.g. (2,3,{‘weight’:3.1415}). Edge attributes are discussed further below"
   ]
  },
  {
   "cell_type": "code",
   "execution_count": 11,
   "metadata": {},
   "outputs": [],
   "source": [
    "G.add_edges_from(H.edges())"
   ]
  },
  {
   "cell_type": "markdown",
   "metadata": {},
   "source": [
    "One can demolish the graph in a similar fashion; using [Graph.remove_node()](https://networkx.github.io/documentation/networkx-1.9.1/reference/generated/networkx.Graph.remove_node.html#networkx.Graph.remove_node), [Graph.remove_nodes_from()](https://networkx.github.io/documentation/networkx-1.9.1/reference/generated/networkx.Graph.remove_nodes_from.html#networkx.Graph.remove_nodes_from), [Graph.remove_edge()](https://networkx.github.io/documentation/networkx-1.9.1/reference/generated/networkx.Graph.remove_edge.html#networkx.Graph.remove_edge) and [Graph.remove_edges_from()](https://networkx.github.io/documentation/networkx-1.9.1/reference/generated/networkx.Graph.remove_edges_from.html#networkx.Graph.remove_edges_from), e.g."
   ]
  },
  {
   "cell_type": "code",
   "execution_count": 12,
   "metadata": {},
   "outputs": [],
   "source": [
    "G.remove_node(H)"
   ]
  },
  {
   "cell_type": "markdown",
   "metadata": {},
   "source": [
    "There are no complaints when adding existing nodes or edges. For example, after removing all nodes and edges,\n",
    "\n"
   ]
  },
  {
   "cell_type": "code",
   "execution_count": 13,
   "metadata": {},
   "outputs": [],
   "source": [
    "G.clear()"
   ]
  },
  {
   "cell_type": "markdown",
   "metadata": {},
   "source": [
    "we add new nodes/edges and NetworkX quietly ignores any that are already present."
   ]
  },
  {
   "cell_type": "code",
   "execution_count": 14,
   "metadata": {},
   "outputs": [],
   "source": [
    "G.add_edges_from([(1,2),(1,3)])\n",
    "G.add_node(1)\n",
    "G.add_edge(1,2)\n",
    "G.add_node(\"spam\")       # adds node \"spam\"\n",
    "G.add_nodes_from(\"spam\") # adds 4 nodes: 's', 'p', 'a', 'm'"
   ]
  },
  {
   "cell_type": "markdown",
   "metadata": {},
   "source": [
    "At this stage the graph G consists of 8 nodes and 2 edges, as can be seen by:"
   ]
  },
  {
   "cell_type": "code",
   "execution_count": 15,
   "metadata": {},
   "outputs": [
    {
     "data": {
      "text/plain": [
       "8"
      ]
     },
     "execution_count": 15,
     "metadata": {},
     "output_type": "execute_result"
    }
   ],
   "source": [
    "G.number_of_nodes()"
   ]
  },
  {
   "cell_type": "code",
   "execution_count": 16,
   "metadata": {},
   "outputs": [
    {
     "data": {
      "text/plain": [
       "2"
      ]
     },
     "execution_count": 16,
     "metadata": {},
     "output_type": "execute_result"
    }
   ],
   "source": [
    "G.number_of_edges()"
   ]
  },
  {
   "cell_type": "markdown",
   "metadata": {},
   "source": [
    "We can examine them with"
   ]
  },
  {
   "cell_type": "code",
   "execution_count": 17,
   "metadata": {},
   "outputs": [
    {
     "data": {
      "text/plain": [
       "NodeView((1, 2, 3, 'spam', 's', 'p', 'a', 'm'))"
      ]
     },
     "execution_count": 17,
     "metadata": {},
     "output_type": "execute_result"
    }
   ],
   "source": [
    "G.nodes()"
   ]
  },
  {
   "cell_type": "code",
   "execution_count": 18,
   "metadata": {},
   "outputs": [
    {
     "data": {
      "text/plain": [
       "EdgeView([(1, 2), (1, 3)])"
      ]
     },
     "execution_count": 18,
     "metadata": {},
     "output_type": "execute_result"
    }
   ],
   "source": [
    "G.edges()"
   ]
  },
  {
   "cell_type": "code",
   "execution_count": 19,
   "metadata": {},
   "outputs": [
    {
     "data": {
      "text/plain": [
       "<dict_keyiterator at 0x7f818812a0b0>"
      ]
     },
     "execution_count": 19,
     "metadata": {},
     "output_type": "execute_result"
    }
   ],
   "source": [
    "G.neighbors(1)"
   ]
  },
  {
   "cell_type": "markdown",
   "metadata": {},
   "source": [
    "Removing nodes or edges has similar syntax to adding:"
   ]
  },
  {
   "cell_type": "code",
   "execution_count": 20,
   "metadata": {},
   "outputs": [],
   "source": [
    "G.remove_nodes_from(\"spam\")"
   ]
  },
  {
   "cell_type": "code",
   "execution_count": 21,
   "metadata": {},
   "outputs": [
    {
     "data": {
      "text/plain": [
       "NodeView((1, 2, 3, 'spam'))"
      ]
     },
     "execution_count": 21,
     "metadata": {},
     "output_type": "execute_result"
    }
   ],
   "source": [
    "G.nodes()"
   ]
  },
  {
   "cell_type": "code",
   "execution_count": 22,
   "metadata": {},
   "outputs": [],
   "source": [
    "G.remove_edge(1,3)"
   ]
  },
  {
   "cell_type": "markdown",
   "metadata": {},
   "source": [
    "When creating a graph structure (by instantiating one of the graph classes you can specify data in several formats."
   ]
  },
  {
   "cell_type": "code",
   "execution_count": 23,
   "metadata": {},
   "outputs": [],
   "source": [
    "# create a DiGraph using the connections from G\n",
    "H=nx.DiGraph(G)"
   ]
  },
  {
   "cell_type": "code",
   "execution_count": 24,
   "metadata": {},
   "outputs": [
    {
     "data": {
      "text/plain": [
       "OutEdgeView([(1, 2), (2, 1)])"
      ]
     },
     "execution_count": 24,
     "metadata": {},
     "output_type": "execute_result"
    }
   ],
   "source": [
    "H.edges()"
   ]
  },
  {
   "cell_type": "code",
   "execution_count": 25,
   "metadata": {},
   "outputs": [],
   "source": [
    "edgelist=[(0,1),(1,2),(2,3)]"
   ]
  },
  {
   "cell_type": "code",
   "execution_count": 26,
   "metadata": {},
   "outputs": [],
   "source": [
    "H=nx.Graph(edgelist)"
   ]
  },
  {
   "cell_type": "markdown",
   "metadata": {},
   "source": [
    "### What to use as nodes and edges\n",
    "You might notice that nodes and edges are not specified as NetworkX objects. This leaves you free to use meaningful items as nodes and edges. The most common choices are numbers or strings, but a node can be any hashable object (except None), and an edge can be associated with any object x using G.add_edge(n1,n2,object=x).\n",
    "\n",
    "As an example, n1 and n2 could be protein objects from the RCSB Protein Data Bank, and x could refer to an XML record of publications detailing experimental observations of their interaction.\n",
    "\n",
    "We have found this power quite useful, but its abuse can lead to unexpected surprises unless one is familiar with Python. If in doubt, consider using [convert_node_labels_to_integers()](https://networkx.github.io/documentation/networkx-1.9.1/reference/generated/networkx.relabel.convert_node_labels_to_integers.html?highlight=convert_node_labels_to_integers) to obtain a more traditional graph with integer labels.\n",
    "\n",
    "## [Accessing edges](https://networkx.github.io/documentation/networkx-1.9.1/tutorial/tutorial.html#accessing-edges)\n",
    "\n",
    "In addition to the methods [Graph.nodes()](https://networkx.github.io/documentation/networkx-1.9.1/reference/generated/networkx.Graph.nodes.html#networkx.Graph.nodes), [Graph.edges()](https://networkx.github.io/documentation/networkx-1.9.1/reference/generated/networkx.Graph.edges.html#networkx.Graph.edges), and [Graph.neighbors()](https://networkx.github.io/documentation/networkx-1.9.1/reference/generated/networkx.Graph.neighbors.html#networkx.Graph.neighbors), iterator versions (e.g. [Graph.edges_iter()](https://networkx.github.io/documentation/networkx-1.9.1/reference/generated/networkx.Graph.edges_iter.html#networkx.Graph.edges_iter)) can save you from creating large lists when you are just going to iterate through them anyway.\n",
    "\n",
    "Fast direct access to the graph data structure is also possible using subscript notation.\n",
    "\n",
    "Warning:\n",
    "***Do not change the returned dict–it is part of the graph data structure and direct manipulation may leave the graph in an inconsistent state.***"
   ]
  },
  {
   "cell_type": "code",
   "execution_count": 27,
   "metadata": {},
   "outputs": [
    {
     "data": {
      "text/plain": [
       "AtlasView({2: {}})"
      ]
     },
     "execution_count": 27,
     "metadata": {},
     "output_type": "execute_result"
    }
   ],
   "source": [
    "# Warning: do not change the resulting dict\n",
    "G[1]"
   ]
  },
  {
   "cell_type": "code",
   "execution_count": 28,
   "metadata": {},
   "outputs": [
    {
     "data": {
      "text/plain": [
       "{}"
      ]
     },
     "execution_count": 28,
     "metadata": {},
     "output_type": "execute_result"
    }
   ],
   "source": [
    "G[1][2]"
   ]
  },
  {
   "cell_type": "markdown",
   "metadata": {},
   "source": [
    "You can safely set the attributes of an edge using subscript notation if the edge already exists."
   ]
  },
  {
   "cell_type": "code",
   "execution_count": 29,
   "metadata": {},
   "outputs": [],
   "source": [
    "G.add_edge(1,3)"
   ]
  },
  {
   "cell_type": "code",
   "execution_count": 30,
   "metadata": {},
   "outputs": [],
   "source": [
    "G[1][3]['color']='blue'"
   ]
  },
  {
   "cell_type": "markdown",
   "metadata": {},
   "source": [
    "Fast examination of all edges is achieved using nodes in networkx 2.0. Note that for undirected graphs this actually looks at each edge twice."
   ]
  },
  {
   "cell_type": "code",
   "execution_count": 31,
   "metadata": {},
   "outputs": [],
   "source": [
    "FG=nx.Graph()\n",
    "FG.add_weighted_edges_from([(1,2,0.125),(1,3,0.75),(2,4,1.2),(3,4,0.375)])\n",
    "for n,nbrs in list(FG.nodes(data=True)):\n",
    "    for nbr,eattr in nbrs.items():\n",
    "        data=eattr['weight']\n",
    "        if data<0.5: print('(%d, %d, %.3f)' % (n,nbr,data))"
   ]
  },
  {
   "cell_type": "code",
   "execution_count": null,
   "metadata": {},
   "outputs": [],
   "source": []
  }
 ],
 "metadata": {
  "kernelspec": {
   "display_name": "Python 3",
   "language": "python",
   "name": "python3"
  },
  "language_info": {
   "codemirror_mode": {
    "name": "ipython",
    "version": 3
   },
   "file_extension": ".py",
   "mimetype": "text/x-python",
   "name": "python",
   "nbconvert_exporter": "python",
   "pygments_lexer": "ipython3",
   "version": "3.7.4"
  }
 },
 "nbformat": 4,
 "nbformat_minor": 4
}
