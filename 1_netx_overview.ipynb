{
 "cells": [
  {
   "cell_type": "markdown",
   "metadata": {},
   "source": [
    "## What is NetworkX?\n",
    "NetworkX is a Python language software package for the creation, manipulation, and study of the structure, dynamics, and function of complex networks.\n",
    "\n",
    "With NetworkX you can load and store networks in standard and nonstandard data formats, generate many types of random and classic networks, analyze network structure, build network models, design new network algorithms, draw networks, and much more.\n",
    "\n",
    "## Who uses NetworkX?\n",
    "The potential audience for NetworkX includes mathematicians, physicists, biologists, computer scientists, and social scientists. Good reviews of the state-of-the-art in the science of complex networks are presented in Albert and Barabási [BA02](https://networkx.github.io/documentation/networkx-1.9.1/bibliography.html#ba02), Newman [Newman03](https://networkx.github.io/documentation/networkx-1.9.1/bibliography.html#newman03), and Dorogovtsev and Mendes [DM03](https://networkx.github.io/documentation/networkx-1.9.1/bibliography.html#dm03). See also the classic texts [Bollobas01](https://networkx.github.io/documentation/networkx-1.9.1/bibliography.html#bollobas01), [Diestel97](https://networkx.github.io/documentation/networkx-1.9.1/bibliography.html#diestel97) and [West01](https://networkx.github.io/documentation/networkx-1.9.1/bibliography.html#west01) for graph theoretic results and terminology. For basic graph algorithms, we recommend the texts of Sedgewick, e.g. [Sedgewick01](https://networkx.github.io/documentation/networkx-1.9.1/bibliography.html#sedgewick01) and [Sedgewick02](https://networkx.github.io/documentation/networkx-1.9.1/bibliography.html#sedgewick02) and the survey of Brandes and Erlebach [BE05](https://networkx.github.io/documentation/networkx-1.9.1/bibliography.html#be05).\n",
    "\n",
    "## Goals\n",
    "NetworkX is intended to provide:\n",
    "\n",
    "- tools for the study of the structure and dynamics of social, biological, and infrastructure networks,\n",
    "- a standard programming interface and graph implementation that is suitable for many applications,\n",
    "- a rapid development environment for collaborative, multidisciplinary projects,\n",
    "- an interface to existing numerical algorithms and code written in C, C++, and FORTRAN,the ability to painlessly slurp in large nonstandard data sets.\n",
    "\n",
    "## The Python programming language\n",
    "Python is a powerful programming language that allows simple and flexible representations of networks, and clear and concise expressions of network algorithms (and other algorithms too). Python has a vibrant and growing ecosystem of packages that NetworkX uses to provide more features such as numerical linear algebra and drawing. In addition Python is also an excellent “glue” language for putting together pieces of software from other languages which allows reuse of legacy code and engineering of high-performance algorithms [Langtangen04](https://networkx.github.io/documentation/networkx-1.9.1/bibliography.html#langtangen04).\n",
    "\n",
    "Equally important, Python is free, well-supported, and a joy to use.\n",
    "\n",
    "In order to make the most out of NetworkX you will want to know how to write basic programs in Python. Among the many guides to Python, we recommend the documentation at http://www.python.org and the text by Alex Martelli [Martelli03](https://networkx.github.io/documentation/networkx-1.9.1/bibliography.html#martelli03).\n",
    "\n",
    "## Free software\n",
    "NetworkX is free software; you can redistribute it and/or modify it under the terms of the [BSD License](https://networkx.github.io/documentation/networkx-1.9.1/reference/legal.html). We welcome contributions from the community. Information on NetworkX development is found at the NetworkX Developer Zone at Github https://github.com/networkx/networkx\n",
    "\n",
    "## History\n",
    "NetworkX was born in May 2002. The original version was designed and written by Aric Hagberg, Dan Schult, and Pieter Swart in 2002 and 2003. The first public release was in April 2005.\n",
    "\n",
    "Many people have contributed to the success of NetworkX. Some of the contributors are listed in the [credits](https://networkx.github.io/documentation/networkx-1.9.1/reference/credits.html).\n",
    "\n",
    "[notebook reference](https://networkx.github.io/documentation/networkx-1.9.1/overview.html#who-uses-networkx)"
   ]
  },
  {
   "cell_type": "code",
   "execution_count": null,
   "metadata": {},
   "outputs": [],
   "source": []
  }
 ],
 "metadata": {
  "kernelspec": {
   "display_name": "Python 3",
   "language": "python",
   "name": "python3"
  },
  "language_info": {
   "codemirror_mode": {
    "name": "ipython",
    "version": 3
   },
   "file_extension": ".py",
   "mimetype": "text/x-python",
   "name": "python",
   "nbconvert_exporter": "python",
   "pygments_lexer": "ipython3",
   "version": "3.7.4"
  }
 },
 "nbformat": 4,
 "nbformat_minor": 4
}
